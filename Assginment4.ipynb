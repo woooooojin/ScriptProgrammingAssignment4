{
 "cells": [
  {
   "cell_type": "markdown",
   "metadata": {},
   "source": [
    " # Assignment 4\n",
    " ### [정보]\n",
    " #### 1) Due Date: 2018년 11월 25일 (일), 23시 59분\n",
    " #### 2) 제출방법: jupyter notebook으로 작성된 내용을 github 또는 dropbox와 같은 클라우드에 올려 해당 URL을 다시 http://nbviewer.jupyter.org 에 넣어서 산출된 URL을 EL사이트에 제출함.\n",
    " #### 3) 내용: 반드시 python code와 수행 결과를 jupyter notebook 내에 작성하여 넣고 이에 대한 설명등을 해당 코드 아래에 markdown cell에 넣어 기입하시오.\n",
    " #### 4) 숙제이후 소감: 문제를 모두 푼 이후에 현재까지 강의를 들은 이후의 소감, 숙제를 한 이후의 소감, 또는 전하고자 하는 말 등을 짧막하게라도 좋으니 마지막에 함께 작성하여 제출하시오. \n",
    " #### 5) 문제 (마지막 Incremental Project에 집중하기 위하여 이번 숙제에는 ACM-ICPC 문제는 포함하지 않음)"
   ]
  },
  {
   "cell_type": "markdown",
   "metadata": {},
   "source": [
    " ##### [1번 문제] \n",
    " 파일 s.txt 내의 다음 내용과 함께 아래 문제의 코드를 제시하시오. \n",
    " >pig ham<br/>\n",
    " >cat dog<br/>\n",
    " >ham bird<br/>\n",
    " >dog pig<br/>"
   ]
  },
  {
   "cell_type": "code",
   "execution_count": 202,
   "metadata": {},
   "outputs": [
    {
     "name": "stdout",
     "output_type": "stream",
     "text": [
      "pig ham\n",
      "cat dog\n",
      "ham bird\n",
      "dog pig\n"
     ]
    }
   ],
   "source": [
    "s=\"\"\"pig ham\n",
    "cat dog\n",
    "ham bird\n",
    "dog pig\"\"\"\n",
    "\n",
    "with open('s.txt','w') as f:\n",
    "    f.write(s)\n",
    "with open('s.txt','r') as f:\n",
    "    print(f.read())"
   ]
  },
  {
   "cell_type": "markdown",
   "metadata": {},
   "source": [
    " &nbsp;&nbsp;&nbsp;&nbsp;&nbsp;&nbsp;&nbsp;&nbsp;&nbsp;&nbsp;  - 1) 파일 s.txt을 읽어서 각 라인에 있는 첫 번째 단어(문자열) 자체들을 기준으로 라인별 정렬후 파일 s1.txt에 그 결과를 기록하는 코드를 작성하시오. 즉, 프로그램 수행 후 s1.txt에 있는 파일 내용은 다음과 같다.\n",
    " >cat dog<br/>\n",
    " >dog pig<br/>\n",
    " >ham bird<br/>\n",
    " >pig ham<br/>"
   ]
  },
  {
   "cell_type": "code",
   "execution_count": 203,
   "metadata": {},
   "outputs": [
    {
     "name": "stdout",
     "output_type": "stream",
     "text": [
      "cat dog\n",
      "dog pig\n",
      "ham bird\n",
      "pig ham\n"
     ]
    }
   ],
   "source": [
    "with open('s.txt','r') as f: \n",
    "    l = [l.strip(\"\\n\") for l in f.readlines()] ##라인별로 읽어온 문자열을 개행문자를 제거하고 리스트로 만듬\n",
    "    l.sort()   ##정렬\n",
    "    s = \"\\n\".join(l)  ##정렬된 문자열을 \\n문자를 기준으로 문자열로 만듬\n",
    "    \n",
    "with open('s1.txt','w') as f: ##문자열 쓰기\n",
    "    f.write(s)\n",
    "    \n",
    "with open('s1.txt','r') as f:\n",
    "    print(f.read())"
   ]
  },
  {
   "cell_type": "markdown",
   "metadata": {},
   "source": [
    " &nbsp;&nbsp;&nbsp;&nbsp;&nbsp;&nbsp;&nbsp;&nbsp;&nbsp;&nbsp;  - 2) 파일 s.txt을 읽어서 각 라인에 있는 두 번째 단어(문자열) 자체들을 기준으로 라인별 정렬후 파일 s2.txt에 그 결과를 기록하는 코드를 작성하시오. 즉, 프로그램 수행 후 s2.txt에 있는 파일 내용은 다음과 같다.\n",
    " >ham bird<br/>\n",
    " >cat dog<br/>\n",
    " >pig ham<br/>\n",
    " >dog pig<br/>"
   ]
  },
  {
   "cell_type": "code",
   "execution_count": 206,
   "metadata": {
    "scrolled": true
   },
   "outputs": [
    {
     "name": "stdout",
     "output_type": "stream",
     "text": [
      "ham bird\n",
      "cat dog\n",
      "pig ham\n",
      "dog pig\n"
     ]
    }
   ],
   "source": [
    "with open('s.txt','r') as f:\n",
    "    l = [l.strip(\"\\n\") for l in f.readlines()]\n",
    "    l.sort(key=lambda x : x[x.find(\" \")+1])  ##두번째 문자열 기준 정렬 / 공백 문자 다음부터 두번째 문자열 시작\n",
    "    s = \"\\n\".join(l)\n",
    "    \n",
    "with open('s2.txt','w') as f:\n",
    "    f.write(s)\n",
    "    \n",
    "with open('s2.txt','r') as f:\n",
    "    print(f.read())    "
   ]
  },
  {
   "cell_type": "markdown",
   "metadata": {},
   "source": [
    " &nbsp;&nbsp;&nbsp;&nbsp;&nbsp;&nbsp;&nbsp;&nbsp;&nbsp;&nbsp;  - 3) 파일 s.txt을 읽어서 각 라인들에 있는 모든 단어들을 순차적으로 다시 나열하되 각 라인에 세 개의 단어들이 오도록 하여 s3.txt에 기록하는 코드를 작성하시오. 즉, 프로그램 수행 후 s3.txt에 있는 파일 내용은 다음과 같다.\n",
    " >pig ham cat<br/>\n",
    " >dog ham bird<br/>\n",
    " >dog pig<br/>"
   ]
  },
  {
   "cell_type": "code",
   "execution_count": 207,
   "metadata": {
    "scrolled": true
   },
   "outputs": [
    {
     "name": "stdout",
     "output_type": "stream",
     "text": [
      "pig ham cat\n",
      "dog ham bird\n",
      "dog pig\n"
     ]
    }
   ],
   "source": [
    "with open('s.txt','r') as f:\n",
    "    s = f.read()  ##문자열 읽어옴\n",
    "    l = s.split() ##공백문자 기준 리스트로 만듬\n",
    "    for index, word in enumerate(l):\n",
    "        if index == len(l)-1: continue  ##마지막 단어는 처리 x\n",
    "        elif (index+1) % 3 == 0:  ##라인 분리를 위해 3번째 단어는 개행문자추가\n",
    "            l[index] = word + \"\\n\"    \n",
    "        else : l[index] = word + \" \" ##그 외 단어들은 공백문자 추가    \n",
    "        \n",
    "with open('s3.txt','w') as f:\n",
    "      for word in l: f.write(word)\n",
    "        \n",
    "with open('s3.txt','r') as f:        \n",
    "    print(f.read())"
   ]
  },
  {
   "cell_type": "markdown",
   "metadata": {},
   "source": [
    " ##### [2번 문제] \n",
    " 다음과 같은 조건들을 참고하여 회원 가입 및 로그인 프로그램을 작성하시오. \n",
    "   - 1) 프로그램 시작 후 다음과 같은 메시지가 출력되어 1, 2, 3 중 하나의 값을 입력 받도록 한다.\n",
    " >Welcome to Our Service<br/>\n",
    " >1. Sign Up<br/>\n",
    " >2. Sign In<br/>\n",
    " >3. Quit<br/>\n",
    "   - 2) 1을 선택하면 ID, Password, Name, School의 4가지 정보를 입력받아 파일에 저장하는 프로그램을 작성한다.\n",
    "     - 2-1) 입력된 내용은 access.txt 라는 이름의 텍스트 파일 내에 저장된다. \n",
    "     - 2-2) access.txt 파일의 각 라인에는 가입된 회원 각각의 정보가 \"[id]: [password], [name], [school]\" 형태로 저장된다.\n",
    "     - 2-3) 즉, 가입 회원이 10명이면 access.txt 파일 내에 라인 수도 정확히 10개이다.\n",
    "     - 2-4) 암호화 방식은 sha 모듈을 활용한다. sha 모듈 활용 방법은 본 문제의 마지막에 제시된 sha 활용 예를 참고한다.\n",
    "       - 즉, access.txt 파일 내에 password 정보는 암호화 되어 저장되어야 한다.\n",
    "     - 2-5) 회원 정보를 입력 받을 때 id를 입력 받은 직후 access.txt를 확인하여 이미 존재하는 id가 입력되었다면 다음 메시지를 출력하고 id 정보를 다시 입력받는다.\n",
    "       - Sorry, the entered ID is already used.\n",
    "   - 3) 2를 선택하면 ID, Password의 2가지 정보를 입력받는 프로그램을 작성한다.\n",
    "     - 3-1) 입력된 ID 정보가 access.txt에 존재하지 않으면 다음과 같은 메시지를 출력하고 다시 입력받는다.\n",
    "       - Sorry, you are not a registered member.\n",
    "     - 3-2) 입력된 ID가 올바르게 존재하지만 Password 정보가 access.txt 파일에 있는 정보와 불일치하면 다음과 같은 메시지를 출력하고 Password를 다시 입력받는다.\n",
    "       - Sorry, the entered password is not correct.\n",
    "       - 이 때에도 사용자가 입력한 Password 정보와 함께 sha 모듈이 활용되어야 한다.\n",
    "     - 3-3) 입력된 ID와 Password가 모두 올바르면 다음과 같은 메시지를 출력한다.\n",
    "       - Hello [name]!\n",
    "       - 위 [name]에는 access.txt에 기록되어 있는 name 정보를 출력한다.\n",
    "   - 4) 3을 선택하면 프로그램이 끝난다.\n",
    "   - [참고] sha 모듈 활용 예"
   ]
  },
  {
   "cell_type": "code",
   "execution_count": 1,
   "metadata": {},
   "outputs": [],
   "source": [
    "import re ##정규표현식 사용\n",
    "pattern = re.compile(\"[^\\[\\]\\:\\,\\' ']+\")\n",
    "\n",
    "import hashlib \n",
    "\n",
    "def isUsedId(id): ##이미 사용되고 있는 id인지 체크하는 함수\n",
    "    with open('access.txt','r') as f:\n",
    "        for userInfo in f.readlines(): ##라인별로 읽어와서\n",
    "            userId = re.findall(pattern,userInfo)[0] ##id,password,name,school정보를 파싱해 저장된 id값을 찾음\n",
    "            if(userId == id) : return True ##이미 사용중이면 True반환\n",
    "    return False ##사용중이 아니면 False반환\n",
    "\n",
    "def checkPass(id, password): ##id와 password가 일치하는지 검사하는 함수 \n",
    "    ##password를 해싱\n",
    "    m = hashlib.sha1()\n",
    "    m.update(password.encode('utf-8'))\n",
    "    password = m.hexdigest()\n",
    "    \n",
    "    with open('access.txt','r') as f:\n",
    "        for userInfo in f.readlines():  ##라인별로 읽어와서\n",
    "            userId = re.findall(pattern,userInfo)[0]    ##저장된 id값 파싱\n",
    "            userPass = re.findall(pattern,userInfo)[1]  ##저장된 password값 파싱\n",
    "            if(id == userId and password == userPass) : ##id,password 일치하면\n",
    "                userName = re.findall(pattern,userInfo)[2] ##로그인 메시지 출력\n",
    "                print(\"\\nHello[\"+userName+\"]!\\n\")\n",
    "                return True ##True반환\n",
    "    return False ##일치하지 않으면 False\n",
    "            \n",
    "def signUp(): ##회원가입 함수\n",
    "    while(True):    \n",
    "        id = input(\"Enter Id ->\")\n",
    "        if(isUsedId(id) == False) : break ##입력받은 id가 사용중이 아니면 루프 종료\n",
    "        print(\"Sorry, the entered ID is already used.\\n\")\n",
    "    \n",
    "    ##입력받은 password 해싱\n",
    "    password = input(\"Enter Password ->\")\n",
    "    m = hashlib.sha1()\n",
    "    m.update(password.encode('utf-8'))\n",
    "    password = m.hexdigest()\n",
    "    \n",
    "    name = input(\"Enter Name ->\")\n",
    "    school = input(\"Enter School ->\")\n",
    "    \n",
    "    ##정해진 형식대로 파일에 저장\n",
    "    with open('access.txt','a') as f:\n",
    "        f.write(\"[%s]: [%s], [%s], [%s]\\n\" % (id,password,name,school))\n",
    "\n",
    "def signIn(): ##로그인 함수\n",
    "    while(True): ##가입된 Id인지 확인\n",
    "        id = input(\"Enter Id ->\")\n",
    "        if(isUsedId(id) == True) : break \n",
    "        print(\"Sorry, you are not a registered member.\\n\")\n",
    "    \n",
    "    while(True): ##Id,password가 일치하는지 확인\n",
    "        password = input(\"Enter Password ->\")\n",
    "        if(checkPass(id,password) == True) : break\n",
    "        print(\"Sorry, the entered password is not correct.\")"
   ]
  },
  {
   "cell_type": "code",
   "execution_count": 5,
   "metadata": {
    "scrolled": true
   },
   "outputs": [
    {
     "name": "stdout",
     "output_type": "stream",
     "text": [
      "Welcome to Our Service\n",
      "\n",
      "  1.Sign Up\n",
      "  2.Sign In\n",
      "  3.Quit\n",
      "\n",
      "Select Menu->1\n",
      "Enter Id ->user1\n",
      "Enter Password ->pass1\n",
      "Enter Name ->홍길동\n",
      "Enter School ->코리아텍\n",
      "\n",
      "Select Menu->1\n",
      "Enter Id ->user1\n",
      "Sorry, the entered ID is already used.\n",
      "\n",
      "Enter Id ->user2\n",
      "Enter Password ->pass2\n",
      "Enter Name ->을지문덕\n",
      "Enter School ->코리아텍\n",
      "\n",
      "Select Menu->2\n",
      "Enter Id ->user3\n",
      "Sorry, you are not a registered member.\n",
      "\n",
      "Enter Id ->user1\n",
      "Enter Password ->pass2\n",
      "Sorry, the entered password is not correct.\n",
      "Enter Password ->pass1\n",
      "\n",
      "Hello[홍길동]!\n",
      "\n",
      "\n",
      "Select Menu->3\n"
     ]
    }
   ],
   "source": [
    "print(\"Welcome to Our Service\\n\")\n",
    "print(\"  1.Sign Up\")\n",
    "print(\"  2.Sign In\")\n",
    "print(\"  3.Quit\\n\")\n",
    "\n",
    "while(True):\n",
    "    select = int(input(\"Select Menu->\"))\n",
    "    if(select == 1):\n",
    "        signUp()\n",
    "    elif(select == 2): \n",
    "        signIn()\n",
    "    elif(select == 3):\n",
    "        break\n",
    "    print()    "
   ]
  },
  {
   "cell_type": "markdown",
   "metadata": {},
   "source": [
    " ##### [3번 문제]\n",
    " range() 함수와 유사한 frange() 함수를 다음 조건을 참고하여 만드시오.\n",
    "   - 1) frange()의 인자 구성은 다음과 같이 range와 동일하지만 각 인수들은 음수를 받지 않는다고 가정한다.\n",
    "   > range(stop)<br/>\n",
    "   > range(start, stop[, step])<br/>\n",
    "   - 2) frange() 함수의 인자에 대한 기본 시작(start) 값은 0.0이고, 기본 단계(step) 값은 0.1이다. \n",
    "   - 3) frange 사용 예\n",
    "     - 3-1) frange(0.5)\n",
    "       - [0.0, 0.1, 0.2, 0.3, 0.4]\n",
    "     - 3-2) frange(1.0, 2.0)\n",
    "       - [1.0, 1.1, 1.2, 1.3, 1.4, 1.5, 1.6, 1.7, 1.8, 1.9]\n",
    "     - 3-3) frange(2.2, 4.0, 0.5)\n",
    "       - [2.2, 2.7, 3.2, 3.7]"
   ]
  },
  {
   "cell_type": "code",
   "execution_count": 59,
   "metadata": {},
   "outputs": [
    {
     "name": "stdout",
     "output_type": "stream",
     "text": [
      "0.30000000000000004\n",
      "0.3000000000000000166533453694\n",
      "0.3\n"
     ]
    }
   ],
   "source": [
    "##파이썬 실수 값 연산시 부동소수점 연산을 하기 때문에 오차가 발생한다. \n",
    "##원하는 결과값을 얻지 못함.\n",
    "print(0.2+0.1)\n",
    "\n",
    "from decimal import Decimal ##부동소수점 연산 해결을 위한 decimal모듈 \n",
    "print(Decimal(0.2) + Decimal(0.1)) ##생성인자가 float형이면 같은 문제 발생\n",
    "\n",
    "##생성인자로 문자열을 전달하여 문자열 값에 해당하는 소수값을 정확하게 생성하여 연산함으로써 해결\n",
    "print(Decimal(\"0.2\") + Decimal(\"0.1\")) "
   ]
  },
  {
   "cell_type": "code",
   "execution_count": 62,
   "metadata": {},
   "outputs": [
    {
     "name": "stdout",
     "output_type": "stream",
     "text": [
      "[0.0, 0.1, 0.2, 0.3, 0.4]\n",
      "[1.0, 1.1, 1.2, 1.3, 1.4, 1.5, 1.6, 1.7, 1.8, 1.9]\n",
      "[2.2, 2.7, 3.2, 3.7]\n"
     ]
    }
   ],
   "source": [
    "def frange(stop,start=0.0,step=0.1):\n",
    "    if(start != 0.0): ##두번째 인자가 기본값이 아니면 \n",
    "        start,stop = stop,start ##첫번째 인자를 start로, 두번째 인자를 stop으로 사용한 것 이므로 swap \n",
    "    \n",
    "    l = []\n",
    "    while(True):\n",
    "        if start < stop : ##stop보다 작으면\n",
    "            l.append(start) ##리스트에 추가하고\n",
    "            start = float(Decimal(str(start)) + Decimal(str(step))) ##step만큼 증가시킴\n",
    "        else : break ##stop보다 커지면 루프 종료\n",
    "    return l\n",
    "\n",
    "print(frange(0.5))\n",
    "print(frange(1.0,2.0))\n",
    "print(frange(2.2,4.0,0.5))"
   ]
  },
  {
   "cell_type": "markdown",
   "metadata": {},
   "source": [
    " ##### [4번 문제] \n",
    " 가변인수를 받는 함수 sum()을 다음과 같은 조건을 참고하여 구현하시오\n",
    " - sum() 사용 예 \n",
    "   - sum()\n",
    "     - 0\n",
    "   - sum(1, 2)\n",
    "     - 3\n",
    "   - sum(1, 2, 3, 4, 5)\n",
    "     - 15\n",
    "   - sum(1, 5, 7, 2, -10)\n",
    "     - 5"
   ]
  },
  {
   "cell_type": "code",
   "execution_count": 208,
   "metadata": {},
   "outputs": [
    {
     "name": "stdout",
     "output_type": "stream",
     "text": [
      "0\n",
      "3\n",
      "15\n",
      "5\n"
     ]
    }
   ],
   "source": [
    "def sum(a=0, *arg):\n",
    "    result = a ##첫번째 인자 a를 결과값의 초기값으로\n",
    "    for n in arg: result+=n ##결과값에 가변인수 값들 모두 더함\n",
    "    return result\n",
    "\n",
    "print(sum())\n",
    "print(sum(1,2))\n",
    "print(sum(1,2,3,4,5))\n",
    "print(sum(1,5,7,2,-10))"
   ]
  },
  {
   "cell_type": "markdown",
   "metadata": {},
   "source": [
    " ##### [5번 문제] \n",
    " 여러 단어로 이루어진 문자열을 입력받아 각 단어의 첫글자로 이루어진 단어를 대문자로 출력하는 myinitial() 함수를 다음 조건을 참고하여 작성하시오.\n",
    " - 1) 다음에 제시되는 함수들을 모두 이용해야 한다. \n",
    "   - split\n",
    "   - map\n",
    "   - join\n",
    " - 2) myinitial() 함수 사용 예\n",
    "   - myinitial(\"as soon as possible\")\n",
    "     - ASAP"
   ]
  },
  {
   "cell_type": "code",
   "execution_count": 110,
   "metadata": {},
   "outputs": [
    {
     "name": "stdout",
     "output_type": "stream",
     "text": [
      "ASAP\n"
     ]
    }
   ],
   "source": [
    "def myinitial(s):\n",
    "    l = s.split() ##공백단위분리\n",
    "    l = list(map(lambda x : x[0].upper(),l))##각 문자열 첫번째단어를 대문자로 변경하고\n",
    "                                            ##그 단어로만 구성된 리스트 생성  \n",
    "    return \"\".join(l) ##리스트를 문자열로 변경\n",
    "\n",
    "print(myinitial(\"as soon as possible\"))"
   ]
  },
  {
   "cell_type": "markdown",
   "metadata": {},
   "source": [
    " ##### [6번 문제]\n",
    " 음이 아닌 정수 n를 입력받으면 n! (factorial)을 계산하는 myfact() 함수를 재귀적 함수로 구현하시오.\n",
    " - [옵션] 참을 수 있는 정도 만큼의 수행시간을 직접 기다려보면서 n을 늘려보도록 합시다. "
   ]
  },
  {
   "cell_type": "code",
   "execution_count": 122,
   "metadata": {},
   "outputs": [
    {
     "name": "stdout",
     "output_type": "stream",
     "text": [
      "120\n",
      "3628800\n",
      "93326215443944152681699238856266700490715968264381621468592963895217599993229915608941463976156518286253697920827223758251185210916864000000000000000000000000\n",
      "402387260077093773543702433923003985719374864210714632543799910429938512398629020592044208486969404800479988610197196058631666872994808558901323829669944590997424504087073759918823627727188732519779505950995276120874975462497043601418278094646496291056393887437886487337119181045825783647849977012476632889835955735432513185323958463075557409114262417474349347553428646576611667797396668820291207379143853719588249808126867838374559731746136085379534524221586593201928090878297308431392844403281231558611036976801357304216168747609675871348312025478589320767169132448426236131412508780208000261683151027341827977704784635868170164365024153691398281264810213092761244896359928705114964975419909342221566832572080821333186116811553615836546984046708975602900950537616475847728421889679646244945160765353408198901385442487984959953319101723355556602139450399736280750137837615307127761926849034352625200015888535147331611702103968175921510907788019393178114194545257223865541461062892187960223838971476088506276862967146674697562911234082439208160153780889893964518263243671616762179168909779911903754031274622289988005195444414282012187361745992642956581746628302955570299024324153181617210465832036786906117260158783520751516284225540265170483304226143974286933061690897968482590125458327168226458066526769958652682272807075781391858178889652208164348344825993266043367660176999612831860788386150279465955131156552036093988180612138558600301435694527224206344631797460594682573103790084024432438465657245014402821885252470935190620929023136493273497565513958720559654228749774011413346962715422845862377387538230483865688976461927383814900140767310446640259899490222221765904339901886018566526485061799702356193897017860040811889729918311021171229845901641921068884387121855646124960798722908519296819372388642614839657382291123125024186649353143970137428531926649875337218940694281434118520158014123344828015051399694290153483077644569099073152433278288269864602789864321139083506217095002597389863554277196742822248757586765752344220207573630569498825087968928162753848863396909959826280956121450994871701244516461260379029309120889086942028510640182154399457156805941872748998094254742173582401063677404595741785160829230135358081840096996372524230560855903700624271243416909004153690105933983835777939410970027753472000000000000000000000000000000000000000000000000000000000000000000000000000000000000000000000000000000000000000000000000000000000000000000000000000000000000000000000000000000000000000000000000000000000000000000000000000000000000000000000000000000000\n"
     ]
    }
   ],
   "source": [
    "def myfact(n):\n",
    "    if n == 1 : return 1\n",
    "    else : return n * myfact(n-1)\n",
    "print(myfact(5))\n",
    "print(myfact(10))\n",
    "print(myfact(100))\n",
    "print(myfact(1000))"
   ]
  },
  {
   "cell_type": "markdown",
   "metadata": {},
   "source": [
    " ##### [7번 문제] \n",
    " (서술형) import string 과 from string import * 의 차이점을 설명하시오."
   ]
  },
  {
   "cell_type": "code",
   "execution_count": 135,
   "metadata": {},
   "outputs": [
    {
     "data": {
      "text/plain": [
       "'0123456789'"
      ]
     },
     "execution_count": 135,
     "metadata": {},
     "output_type": "execute_result"
    }
   ],
   "source": [
    "import string\n",
    "string.digits"
   ]
  },
  {
   "cell_type": "code",
   "execution_count": 136,
   "metadata": {},
   "outputs": [
    {
     "data": {
      "text/plain": [
       "'0123456789'"
      ]
     },
     "execution_count": 136,
     "metadata": {},
     "output_type": "execute_result"
    }
   ],
   "source": [
    "from string import *\n",
    "digits"
   ]
  },
  {
   "cell_type": "markdown",
   "metadata": {},
   "source": [
    "- import string은 이름 공간에 string 모듈 이름을 그대로 추가하여 유지하기 때문에 string 모듈의 이름 공간 내에 있는 이름들을 직접 사용할 수 없고 string.digits과 같은 형태로 자격 이름을 사용해야하지만 from string import * 은 string모듈내의 '__' 시작하는 특수한 이름들을 제외한 모든 이름들을 현재 이름공간으로 불러들이기 때문에 digits과 같이 모듈 이름없이 직접 사용이 가능하다."
   ]
  },
  {
   "cell_type": "markdown",
   "metadata": {},
   "source": [
    " ##### [8번 문제] \n",
    " 이전 Assignment 3의 마지막 문제는 웹 URL로 지정된 웹페이지를 문자열로 가져와 모든 HTML 태그 및 CSS와 Javascript를 제외한 순수 텍스트를 얻어내고 그 안에 존재하는 단어를 추출하여 각 단어들에 대해 출현빈도를 사전형태({'world': 2, 'hello': 1, 'python': 1})로 저장하여 출력하는 것이었다. 이번에는 Assignment 3를 확장하여 다음과 같은 조건을 만족하도록 구현하시오.\n",
    "   - 1) 다음 사이트에서 제시되는 불용어 (Stop words)를 참고하여 이전 숙제에서 구성했던 단어 사전에서 불용어들을 모두 제거하는 코드를 추가하시오.\n",
    "     - 영어 불용어: http://www.lextek.com/manuals/onix/stopwords1.html\n",
    "     - 한글 불용어: https://raw.githubusercontent.com/stopwords-iso/stopwords-ko/master/stopwords-ko.txt\n",
    "   - 2) 각 URL로 지정된 웹페이지의 HTML 소스를 파일로 저장하시오. \n",
    "     - URL이 http://URL 이라면 파일명은 URL.html 이다. \n",
    "       - 예: URL이 http://www.cnn.com 이라면 파일명은 www.cnn.com.html 이다. \n",
    "   - 3) 단어의 출현빈도가 담긴 사전 객체를 위 HTML 소스 파일과 동일한 폴더에 파일로 저장하시오.\n",
    "     - 파일입출력 (E-learning 13주차) 마지막에 학습한 pickle 모듈을 활용하시오. \n",
    "     - URL이 http://URL 이라면 사전 객체를 담고 있는 파일명은 URL.words_frequency.pickle 이다.\n",
    "       - 예: URL이 http://www.cnn.com 이라면 파일명은 www.cnn.com.words_frequency.pickle 이다.\n",
    "   - 4) 최소 5개 이상의 웹 사이트 각각에 대한 HTML 소스 파일과 단어 출현빈도 파일을 저장하시오. \n",
    "     - 즉, 5개의 웹 사이트에 대해 총 10개의 파일을 동일한 폴더에 생성하시오.\n",
    "     - [주의] 가능하면 웹사이트에 단어들이 많고 다루는 주제가 서로 다른 웹 사이트들로 선정하는 것 추천\n",
    "   - 5) 위 문제에서 저장한 모든 pickle 파일들을 객체로 다시 로드하여 본인이 저장하여 분석한 사이트들 각각에 대해서 가장 많이 출현한 단어 3개씩를 뽑아 제시하시오. \n",
    "     - 반드시 pickle 모듈로 저장한 5개 이상의 pickle 파일들을 다시 5개 이상의 사전 객체로 로드 하는 코드가 추가되어야 함\n",
    "   - 6) 간단한 검색엔진 코딩 (Like Google!!!)\n",
    "     - 사용자에게 임의의 검색어 (하나 또는 여러 단어로 구성) 를 입력받으시오.\n",
    "       - 예: \n",
    "         - 대한민국\n",
    "         - 컴퓨터 공학\n",
    "         - 맛있는 음식\n",
    "         - 파이썬을 쉽게 공부하는 법\n",
    "         - 한기대 장점을 알려주세요\n",
    "     - 입력받은 검색어들에 대해서도 1)에서 제시하는 방법처럼 불용어 처리를 하여 정리\n",
    "     - 입력 받은 검색어와 유사도(Similarity)가 높은 웹 사이트 기준으로 위 4)에서 미리 지정해 놓은 5개 이상의 웹 사이트 URL들을 일렬로 나열하여 출력하시오.\n",
    "       - 검색어와 웹 사이트 간의 유사도는 본인이 스스로 정하시오.\n",
    "       - 유사도를 정하는 최소한의 기준은 단어 출현 빈도를 기반으로 해야 하며, 이외의 본인이 생각하는 방안이 있으면 함께 사용해도 됨.\n",
    "       - 유사도가 높은 웹 사이트가 상위에 출력되어야 함 (즉, 유사도 기준 내림 차순)\n",
    "       - 유사도가 동일한 웹 사이트들에 대해서는 임의 배치함.\n",
    "   - 7) [주의] 필수사항\n",
    "     - 위에서 만든 검색엔진 코딩은 매우 간단한 것이라 부족한 점이 많이 존재한다.\n",
    "     - 본인이 생각하기에 상업적인 완성도 높은 검색 로봇/엔진이 되려면 어떤 기능들이 추가적으로 구현되어야 할지 최소 1가지 이상 제시하시오. "
   ]
  },
  {
   "cell_type": "code",
   "execution_count": 35,
   "metadata": {},
   "outputs": [],
   "source": [
    "import requests\n",
    "def parseURL(url):\n",
    "    req = requests.get(url)\n",
    "    return req.text\n",
    "\n",
    "def extractText(source): #HTML태그를 제외하고 순수 텍스트만 추출하는 함수\n",
    "    text = \"\" #순수 텍스트 식별자\n",
    "    while(1) :      \n",
    "        source = source[source.find('<'):] #'<'를 찾는다\n",
    "        if (source.find(\"<!--\") == 0) : \n",
    "                source = source[source.find(\"-->\")+3:] #주석 내용 건너뜀 \n",
    "        elif (source.find(\"<script\") == 0) :        \n",
    "                source = source[source.find(\"</script>\")+9:]  #자바스크립트 내용 건너뜀   \n",
    "        elif (source.find(\"<style\") == 0) :\n",
    "                source = source[source.find(\"</style>\")+9:] #스타일 내용 건너뜀\n",
    "        else :       \n",
    "            source = source[source.find('>')+1:] #'>'를 찾는다\n",
    "            for ch in source :    #'>' 이후부터 한글자씩 가져온다\n",
    "                if ch == '<' : break    # 다시 '<' 문자 등장하면 종료\n",
    "                elif ch == '\\t' or ch == '\\n' : continue    #탭,개행 문자는 순수 텍스트에 포함x\n",
    "                else : text += ch   #순수 텍스트 추가     \n",
    "            if text.endswith(\" \") == False : text += \" \" #공백으로 분리하기 위해 순수 텍스트 추출 후 뒤에 공백문자 추가\n",
    "        if(source.find('<') == -1):break #'<' 문자가 더 이상 없는 경우 무한루프종료 \n",
    "    return text   \n",
    "\n",
    "def replaceAll(text, dic):  ##문자열을 사전에 맵핑된 문자로 대체로 하는 함수\n",
    "    for i,j in dic.items():\n",
    "        text = text.replace(i,j,text.count(i)) #문자열에 사전에 키와 같은 문자가 존재하면 키에 맵핑된 value값으로 대체한다.\n",
    "    return text   \n",
    "\n",
    "import string\n",
    "def filterSpecialChar(text): ##특수문자 제거 함수\n",
    "    keys = [ch for ch in string.punctuation] #구두문자를 key리스트로 만듬\n",
    "    #구두문자 이외의 특수문자를 key리스트에 추가\n",
    "    keys = keys + [\"★\",\"☆\",\"※\",\"●\",\"nbsp\",\"lt\",\"amp\",\"quot\",\"middot\",\"uarr\",\"rarr\",\"darr\",\"harr\",\"💕\",\n",
    "                   \"✒✒\",\"（╹◡╹）\",\"♥\",\"🛫\",\"\\u200b\"]\n",
    "    \n",
    "    values = ['' for _ in keys]  #key리스트의 원소 수 만큼 ''문자를 원소를 갖는 value리스트를 만듬\n",
    "    replaceDic = dict(zip(keys,values)) #key리스트 key로 value리스트를 value값으로 하는 사전 만듬\n",
    "\n",
    "    return replaceAll(text,replaceDic) #추출한 순수 텍스트에서 사전에 맵핑된 제거할 문자들을 모두 제거\n",
    "\n",
    "def freqOfWord(l): #단어의 빈도수를 사전으로 반환하는 함수\n",
    "    word = []   \n",
    "    for w in l: #리스트의 각 원소들이\n",
    "        if (w in word) == False : word.append(w) #word리스트에 포함된 단어가 아니면 단어를 리스트에 추가 (단어중복제거)          \n",
    "    freg = [l.count(w) for w in l] #리스트에서 단어의 출현 빈도수를 리스트로 만듬\n",
    "    \n",
    "    return dict(zip(word,freg)) #단어와 단어의 빈도수로 맵핑된 사전 반환\n",
    "\n",
    "import re\n",
    "def getKoreanAbb():  ##한국어 불용어 사전 불러오는 함수\n",
    "    req = requests.get(' https://raw.githubusercontent.com/stopwords-iso/stopwords-ko/master/stopwords-ko.txt')\n",
    "    source = req.text\n",
    "    return source.split()\n",
    "\n",
    "def getEnglishAbb(): ##영어 불용어 사전 불러오는 함수\n",
    "    req = requests.get('http://www.lextek.com/manuals/onix/stopwords1.html')\n",
    "    source = req.text\n",
    "\n",
    "    ##정규표현식 활용 불용어 단어 파싱\n",
    "    text = re.sub('\\n',' ',source, 0, re.I|re.S)\n",
    "    pattern = re.compile('<pre>(.+)</pre>')\n",
    "    text = re.findall(pattern,text)[0]\n",
    "    text = re.sub('#.*?#  #  #',' ',text, 0, re.I|re.S)\n",
    "    return text.split()\n",
    "\n",
    "##사전에서 불용어를 제거하는 함수\n",
    "def filterAbbreviation(dic):\n",
    "    english_Abbreviation = getEnglishAbb() ##불용어 사전 불러옴\n",
    "    korean_Abbreviation = getKoreanAbb()\n",
    "    \n",
    "    for key in list(dic.keys()):\n",
    "        if key.lower() in english_Abbreviation : del dic[key]  ##영어 불용어 제거\n",
    "        if key in korean_Abbreviation : del dic[key]        ##한국어 불용어 제거\n",
    "        \n",
    "    return dic\n",
    "\n",
    "import pickle\n",
    "def saveParsingData(url,dic):       ##파일 저장 함수\n",
    "    fileName = re.sub('http://','',url, 0, re.I|re.S)  ##파일명 형식 처리 \n",
    "    fileName = re.sub('https://','',fileName, 0, re.I|re.S)\n",
    "    source = parseURL(url)  ##HTML 소스 가져옴\n",
    "    \n",
    "    with open(fileName+'.html','w',encoding='UTF-8') as f : ##HTML 파일 저장\n",
    "        f.write(\"<xmp>\"+source+\"</xmp>\")  ##HTML 소스 그자체를 HTML 파일에저장\n",
    "   \n",
    "    with open(fileName+'.words_frequency.pickle','wb') as f: ##빈도수 사전 Pickle파일 저장\n",
    "        pickle.dump(dic,f)\n",
    "\n",
    "def loadDicPickle(url):    ##빈도 수 사전 로드 함수\n",
    "    fileName = re.sub('http://','',url, 0, re.I|re.S) ##입력받은 url을 파일명 형식처리\n",
    "    fileName = re.sub('https://','',fileName, 0, re.I|re.S)]\n",
    "    \n",
    "    with open(fileName +'.words_frequency.pickle','rb') as f: ##사전 불러옴\n",
    "        dic = pickle.load(f)\n",
    "    return dic\n",
    "\n",
    "## 빈도수 사전에서 빈도수 순위를 내림차순 정렬하여 리스트로 반환하는 함수\n",
    "## 두번째 인자로 입력받은 개수 만큼  빈도수 순위 반환\n",
    "def topFreqWord(freqDic,numOfItems):  \n",
    "    items = list(freqDic.items())\n",
    "    items.sort(key=lambda x: x[1], reverse=True)    \n",
    "    return [items[i] for i in range(numOfItems)] \n",
    "    "
   ]
  },
  {
   "cell_type": "markdown",
   "metadata": {},
   "source": [
    "- 수행과정결과 테스트"
   ]
  },
  {
   "cell_type": "code",
   "execution_count": 209,
   "metadata": {},
   "outputs": [
    {
     "name": "stdout",
     "output_type": "stream",
     "text": [
      "['a', 'about', 'above', 'across', 'after', 'again', 'against', 'all', 'almost', 'alone', 'along', 'already', 'also', 'although', 'always', 'among', 'an', 'and', 'another', 'any', 'anybody', 'anyone', 'anything', 'anywhere', 'are', 'area', 'areas', 'around', 'as', 'ask', 'asked', 'asking', 'asks', 'at', 'away', 'b', 'back', 'backed', 'backing', 'backs', 'be', 'became', 'because', 'become', 'becomes', 'been', 'before', 'began', 'behind', 'being', 'beings', 'best', 'better', 'between', 'big', 'both', 'but', 'by', 'c', 'came', 'can', 'cannot', 'case', 'cases', 'certain', 'certainly', 'clear', 'clearly', 'come', 'could', 'd', 'did', 'differ', 'different', 'differently', 'do', 'does', 'done', 'down', 'down', 'downed', 'downing', 'downs', 'during', 'e', 'each', 'early', 'either', 'end', 'ended', 'ending', 'ends', 'enough', 'even', 'evenly', 'ever', 'every', 'everybody', 'everyone', 'everything', 'everywhere', 'f', 'face', 'faces', 'fact', 'facts', 'far', 'felt', 'few', 'find', 'finds', 'first', 'for', 'four', 'from', 'full', 'fully', 'further', 'furthered', 'furthering', 'furthers', 'g', 'gave', 'general', 'generally', 'get', 'gets', 'give', 'given', 'gives', 'go', 'going', 'good', 'goods', 'got', 'great', 'greater', 'greatest', 'group', 'grouped', 'grouping', 'groups', 'h', 'had', 'has', 'have', 'having', 'he', 'her', 'here', 'herself', 'high', 'high', 'high', 'higher', 'highest', 'him', 'himself', 'his', 'how', 'however', 'i', 'if', 'important', 'in', 'interest', 'interested', 'interesting', 'interests', 'into', 'is', 'it', 'its', 'itself', 'j', 'just', 'k', 'keep', 'keeps', 'kind', 'knew', 'know', 'known', 'knows', 'l', 'large', 'largely', 'last', 'later', 'latest', 'least', 'less', 'let', 'lets', 'like', 'likely', 'long', 'longer', 'longest', 'm', 'made', 'make', 'making', 'man', 'many', 'may', 'me', 'member', 'members', 'men', 'might', 'more', 'most', 'mostly', 'mr', 'mrs', 'much', 'must', 'my', 'myself', 'n', 'necessary', 'need', 'needed', 'needing', 'needs', 'never', 'new', 'new', 'newer', 'newest', 'next', 'no', 'nobody', 'non', 'noone', 'not', 'nothing', 'now', 'nowhere', 'number', 'numbers', 'o', 'of', 'off', 'often', 'old', 'older', 'oldest', 'on', 'once', 'one', 'only', 'open', 'opened', 'opening', 'opens', 'or', 'order', 'ordered', 'ordering', 'orders', 'other', 'others', 'our', 'out', 'over', 'p', 'part', 'parted', 'parting', 'parts', 'per', 'perhaps', 'place', 'places', 'point', 'pointed', 'pointing', 'points', 'possible', 'present', 'presented', 'presenting', 'presents', 'problem', 'problems', 'put', 'puts', 'q', 'quite', 'r', 'rather', 'really', 'right', 'right', 'room', 'rooms', 's', 'said', 'same', 'saw', 'say', 'says', 'second', 'seconds', 'see', 'seem', 'seemed', 'seeming', 'seems', 'sees', 'several', 'shall', 'she', 'should', 'show', 'showed', 'showing', 'shows', 'side', 'sides', 'since', 'small', 'smaller', 'smallest', 'so', 'some', 'somebody', 'someone', 'something', 'somewhere', 'state', 'states', 'still', 'still', 'such', 'sure', 't', 'take', 'taken', 'than', 'that', 'the', 'their', 'them', 'then', 'there', 'therefore', 'these', 'they', 'thing', 'things', 'think', 'thinks', 'this', 'those', 'though', 'thought', 'thoughts', 'three', 'through', 'thus', 'to', 'today', 'together', 'too', 'took', 'toward', 'turn', 'turned', 'turning', 'turns', 'two', 'u', 'under', 'until', 'up', 'upon', 'us', 'use', 'used', 'uses', 'v', 'very', 'w', 'want', 'wanted', 'wanting', 'wants', 'was', 'way', 'ways', 'we', 'well', 'wells', 'went', 'were', 'what', 'when', 'where', 'whether', 'which', 'while', 'who', 'whole', 'whose', 'why', 'will', 'with', 'within', 'without', 'work', 'worked', 'working', 'works', 'would', 'x', 'y', 'year', 'years', 'yet', 'you', 'young', 'younger', 'youngest', 'your', 'yours', 'z']\n"
     ]
    }
   ],
   "source": [
    "english_Abbreviation = getEnglishAbb() ##불용어 사전 불러옴\n",
    "print(english_Abbreviation)"
   ]
  },
  {
   "cell_type": "code",
   "execution_count": 210,
   "metadata": {},
   "outputs": [
    {
     "name": "stdout",
     "output_type": "stream",
     "text": [
      "['!', '\"', '$', '%', '&', \"'\", '(', ')', '*', '+', ',', '-', '.', '...', '0', '1', '2', '3', '4', '5', '6', '7', '8', '9', ';', '<', '=', '>', '?', '@', '\\\\', '^', '_', '`', '|', '~', '·', '—', '——', '‘', '’', '“', '”', '…', '、', '。', '〈', '〉', '《', '》', '가', '가까스로', '가령', '각', '각각', '각자', '각종', '갖고말하자면', '같다', '같이', '개의치않고', '거니와', '거바', '거의', '것', '것과', '같이', '것들', '게다가', '게우다', '겨우', '견지에서', '결과에', '이르다', '결국', '결론을', '낼', '수', '있다', '겸사겸사', '고려하면', '고로', '곧', '공동으로', '과', '과연', '관계가', '있다', '관계없이', '관련이', '있다', '관하여', '관한', '관해서는', '구', '구체적으로', '구토하다', '그', '그들', '그때', '그래', '그래도', '그래서', '그러나', '그러니', '그러니까', '그러면', '그러므로', '그러한즉', '그런', '까닭에', '그런데', '그런즉', '그럼', '그럼에도', '불구하고', '그렇게', '함으로써', '그렇지', '그렇지', '않다면', '그렇지', '않으면', '그렇지만', '그렇지않으면', '그리고', '그리하여', '그만이다', '그에', '따르는', '그위에', '그저', '그중에서', '그치지', '않다', '근거로', '근거하여', '기대여', '기점으로', '기준으로', '기타', '까닭으로', '까악', '까지', '까지', '미치다', '까지도', '꽈당', '끙끙', '끼익', '나', '나머지는', '남들', '남짓', '너', '너희', '너희들', '네', '넷', '년', '논하지', '않다', '놀라다', '누가', '알겠는가', '누구', '다른', '다른', '방면으로', '다만', '다섯', '다소', '다수', '다시', '말하자면', '다시말하면', '다음', '다음에', '다음으로', '단지', '답다', '당신', '당장', '대로', '하다', '대하면', '대하여', '대해', '말하자면', '대해서', '댕그', '더구나', '더군다나', '더라도', '더불어', '더욱더', '더욱이는', '도달하다', '도착하다', '동시에', '동안', '된바에야', '된이상', '두번째로', '둘', '둥둥', '뒤따라', '뒤이어', '든간에', '들', '등', '등등', '딩동', '따라', '따라서', '따위', '따지지', '않다', '딱', '때', '때가', '되어', '때문에', '또', '또한', '뚝뚝', '라', '해도', '령', '로', '로', '인하여', '로부터', '로써', '륙', '를', '마음대로', '마저', '마저도', '마치', '막론하고', '만', '못하다', '만약', '만약에', '만은', '아니다', '만이', '아니다', '만일', '만큼', '말하자면', '말할것도', '없고', '매', '매번', '메쓰겁다', '몇', '모', '모두', '무렵', '무릎쓰고', '무슨', '무엇', '무엇때문에', '물론', '및', '바꾸어말하면', '바꾸어말하자면', '바꾸어서', '말하면', '바꾸어서', '한다면', '바꿔', '말하면', '바로', '바와같이', '밖에', '안된다', '반대로', '반대로', '말하자면', '반드시', '버금', '보는데서', '보다더', '보드득', '본대로', '봐', '봐라', '부류의', '사람들', '부터', '불구하고', '불문하고', '붕붕', '비걱거리다', '비교적', '비길수', '없다', '비로소', '비록', '비슷하다', '비추어', '보아', '비하면', '뿐만', '아니라', '뿐만아니라', '뿐이다', '삐걱', '삐걱거리다', '사', '삼', '상대적으로', '말하자면', '생각한대로', '설령', '설마', '설사', '셋', '소생', '소인', '솨', '쉿', '습니까', '습니다', '시각', '시간', '시작하여', '시초에', '시키다', '실로', '심지어', '아', '아니', '아니나다를가', '아니라면', '아니면', '아니었다면', '아래윗', '아무거나', '아무도', '아야', '아울러', '아이', '아이고', '아이구', '아이야', '아이쿠', '아하', '아홉', '안', '그러면', '않기', '위하여', '않기', '위해서', '알', '수', '있다', '알았어', '앗', '앞에서', '앞의것', '야', '약간', '양자', '어', '어기여차', '어느', '어느', '년도', '어느것', '어느곳', '어느때', '어느쪽', '어느해', '어디', '어때', '어떠한', '어떤', '어떤것', '어떤것들', '어떻게', '어떻해', '어이', '어째서', '어쨋든', '어쩔수', '없다', '어찌', '어찌됏든', '어찌됏어', '어찌하든지', '어찌하여', '언제', '언젠가', '얼마', '얼마', '안', '되는', '것', '얼마간', '얼마나', '얼마든지', '얼마만큼', '얼마큼', '엉엉', '에', '에', '가서', '에', '달려', '있다', '에', '대해', '에', '있다', '에', '한하다', '에게', '에서', '여', '여기', '여덟', '여러분', '여보시오', '여부', '여섯', '여전히', '여차', '연관되다', '연이서', '영', '영차', '옆사람', '예', '예를', '들면', '예를', '들자면', '예컨대', '예하면', '오', '오로지', '오르다', '오자마자', '오직', '오호', '오히려', '와', '와', '같은', '사람들', '와르르', '와아', '왜', '왜냐하면', '외에도', '요만큼', '요만한', '것', '요만한걸', '요컨대', '우르르', '우리', '우리들', '우선', '우에', '종합한것과같이', '운운', '월', '위에서', '서술한바와같이', '위하여', '위해서', '윙윙', '육', '으로', '으로', '인하여', '으로서', '으로써', '을', '응', '응당', '의', '의거하여', '의지하여', '의해', '의해되다', '의해서', '이', '이', '되다', '이', '때문에', '이', '밖에', '이', '외에', '이', '정도의', '이것', '이곳', '이때', '이라면', '이래', '이러이러하다', '이러한', '이런', '이럴정도로', '이렇게', '많은', '것', '이렇게되면', '이렇게말하자면', '이렇구나', '이로', '인하여', '이르기까지', '이리하여', '이만큼', '이번', '이봐', '이상', '이어서', '이었다', '이와', '같다', '이와', '같은', '이와', '반대로', '이와같다면', '이외에도', '이용하여', '이유만으로', '이젠', '이지만', '이쪽', '이천구', '이천육', '이천칠', '이천팔', '인', '듯하다', '인젠', '일', '일것이다', '일곱', '일단', '일때', '일반적으로', '일지라도', '임에', '틀림없다', '입각하여', '입장에서', '잇따라', '있다', '자', '자기', '자기집', '자마자', '자신', '잠깐', '잠시', '저', '저것', '저것만큼', '저기', '저쪽', '저희', '전부', '전자', '전후', '점에서', '보아', '정도에', '이르다', '제', '제각기', '제외하고', '조금', '조차', '조차도', '졸졸', '좀', '좋아', '좍좍', '주룩주룩', '주저하지', '않고', '줄은', '몰랏다', '줄은모른다', '중에서', '중의하나', '즈음하여', '즉', '즉시', '지든지', '지만', '지말고', '진짜로', '쪽으로', '차라리', '참', '참나', '첫번째로', '쳇', '총적으로', '총적으로', '말하면', '총적으로', '보면', '칠', '콸콸', '쾅쾅', '쿵', '타다', '타인', '탕탕', '토하다', '통하여', '툭', '퉤', '틈타', '팍', '팔', '퍽', '펄렁', '하', '하게될것이다', '하게하다', '하겠는가', '하고', '있다', '하고있었다', '하곤하였다', '하구나', '하기', '때문에', '하기', '위하여', '하기는한데', '하기만', '하면', '하기보다는', '하기에', '하나', '하느니', '하는', '김에', '하는', '편이', '낫다', '하는것도', '하는것만', '못하다', '하는것이', '낫다', '하는바', '하더라도', '하도다', '하도록시키다', '하도록하다', '하든지', '하려고하다', '하마터면', '하면', '할수록', '하면된다', '하면서', '하물며', '하여금', '하여야', '하자마자', '하지', '않는다면', '하지', '않도록', '하지마', '하지마라', '하지만', '하하', '한', '까닭에', '한', '이유는', '한', '후', '한다면', '한다면', '몰라도', '한데', '한마디', '한적이있다', '한켠으로는', '한항목', '할', '따름이다', '할', '생각이다', '할', '줄', '안다', '할', '지경이다', '할', '힘이', '있다', '할때', '할만하다', '할망정', '할뿐', '할수있다', '할수있어', '할줄알다', '할지라도', '할지언정', '함께', '해도된다', '해도좋다', '해봐요', '해서는', '안된다', '해야한다', '해요', '했어요', '향하다', '향하여', '향해서', '허', '허걱', '허허', '헉', '헉헉', '헐떡헐떡', '형식으로', '쓰여', '혹시', '혹은', '혼자', '훨씬', '휘익', '휴', '흐흐', '흥', '힘입어', '︿', '！', '＃', '＄', '％', '＆', '（', '）', '＊', '＋', '，', '０', '１', '２', '３', '４', '５', '６', '７', '８', '９', '：', '；', '＜', '＞', '？', '＠', '［', '］', '｛', '｜', '｝', '～', '￥']\n"
     ]
    }
   ],
   "source": [
    "korean_Abbreviation = getKoreanAbb()\n",
    "print(korean_Abbreviation)"
   ]
  },
  {
   "cell_type": "code",
   "execution_count": 211,
   "metadata": {},
   "outputs": [],
   "source": [
    "url = 'http://cse.koreatech.ac.kr'\n",
    "source = parseURL(url)  #html문서 문자열로 가져옴\n",
    "text =  extractText(source)  #순수 텍스트 추출\n",
    "text = filterSpecialChar(text) #특수문자 제거\n",
    "l = text.split()            #공백단위분리\n",
    "dic = freqOfWord(l)       #출현한 단어의 빈도수 사전"
   ]
  },
  {
   "cell_type": "code",
   "execution_count": 212,
   "metadata": {
    "scrolled": true
   },
   "outputs": [
    {
     "name": "stdout",
     "output_type": "stream",
     "text": [
      "{'컴퓨터공학부': 10, 'Schoolfun': 1, 'Study': 1, 'Fun': 1, '로그인': 4, '아이디': 4, '비밀번호': 1, '유지': 1, '브라우저를': 4, '닫더라도': 2, '로그인이': 1, '계속': 1, '유지될': 1, '있습니다': 1, '기능을': 2, '사용할': 1, '경우': 4, '접속부터는': 1, '로그인할': 1, '필요가': 1, '없습니다': 1, '단': 1, '게임방': 1, '학교': 1, '공공장소에서': 1, '이용': 1, '시': 1, '개인정보가': 1, '유출될': 1, '있으니': 1, '꼭': 2, '로그아웃을': 1, '해주세요': 1, '회원가입': 2, 'IDPW': 1, '찾기': 1, '교육의': 1, '글로벌': 1, '메카': 1, '한국기술교육대학교': 1, 'Close': 5, '소개': 2, '구성원소개': 3, '학사안내': 2, '입학': 7, '학부': 10, '대학원': 1, '학부광장': 1, '자료실': 1, '공학교육인증': 1, '학부서비스': 1, 'Registration': 1, 'School': 4, 'Computer': 2, 'Science': 4, 'Engineering': 1, '융합소프트웨어': 1, '인력양성사업': 1, 'CK': 10, 'Creative': 1, 'KoreaI': 2, '교육역량강화사업': 1, '온라인': 1, '컨텐츠': 3, 'Online': 1, 'Contents': 5, 'Education': 3, 'Capability': 1, 'Empowerment': 1, '홈페이지에': 1, '오신': 3, '것을': 3, '환영합니다': 2, '수준의': 1, 'IT전문인력': 1, '양성': 2, 'IT융합분야에': 1, '대한': 1, '국제적인': 1, '경쟁력': 5, '고취': 2, '바로가기': 3, '컨텐츠를': 2, '소개합니다': 7, '공지사항': 10, '안전교육': 1, '20182학기': 1, '실험실': 1, '이수현황': 1, '안내': 5, '20181112': 3, '1017': 3, '2018년': 3, '신입생': 1, '모집': 1, '입시설명회': 1, '개최': 1, '20181108': 1, '1544': 1, '졸업작품': 1, '재심사': 1, '중간발표역학': 3, '0914': 2, '2018학년도': 3, '하반기': 3, '자체필기실기평가': 1, '20181107': 1, '1026': 2, '특성화': 1, '2018': 2, 'IT융합': 1, '아이디어': 1, '경진대회': 2, '신청현황': 1, '20181106': 3, '1746': 2, '자유게시판': 2, '10대': 2, '학회장': 4, '부학회장': 1, '후보자': 2, '등록': 1, '20181120': 1, '2014': 2, '모의토익비': 2, '지원': 2, '공지': 2, '20181119': 2, '1923': 2, '총학생회장': 1, '재투표': 3, '관련': 1, '사항': 2, '20181118': 2, '2246': 2, '수정2019학년도': 1, '제10대': 1, '학생회장': 10, '부': 1, '20181116': 2, '2056': 3, 'DICE': 2, 'Lab': 2, '대학원생': 1, '1347': 2, '취업게시판': 1, '비트컴퓨터': 1, '교육사업부': 1, '교육운영관리': 1, '담당자': 1, '11월': 1, '16일': 2, '1451': 2, '플링크': 1, '증감현실': 1, '시스템': 1, '콘텐츠': 10, '개발': 1, '청주': 1, '11': 1, '1441': 1, 'ITCEN': 1, '신입': 2, '공채': 1, '7기': 2, '채용': 1, '공고': 1, '1428': 2, '㈜비즈테크파트너스': 2, 'LG': 1, 'CNS자회사': 1, '개발직': 1, '20181025': 2, '1629': 1, '국가보안기술연구소': 2, '정규직': 2, '20181004': 2, '1418': 1, 'Platum': 1, '역삼동에': 10, '소셜벤처': 1, '청년창업': 3, '허브': 1, '생긴다': 1, '20181124': 2, '1533': 2, '“모금의': 1, '혁신을': 1, '이야기하다”': 1, '도너스': 2, '콜라보레이트': 3, '201': 2, '20181123': 2, '2152': 1, '루미르': 1, '컴퍼니케이파트너스': 1, '등으로부터': 1, '35억': 1, '투자': 1, '유치': 1, '1516': 3, '디지털이코노미': 2, '포럼': 2, '대기업이': 1, '스타트업': 1, '생태계에': 1, '접': 3, '1435': 1, '디지털이코노미포럼': 1, '핀테크': 1, '30시대': 1, '10년': 3, '안에': 2, '온다': 2, '1355': 1, '전자신문': 1, 'KT': 2, '이동전화': 1, '피해': 1, '25일': 2, '아침까지': 1, '90': 2, '복구': 3, '1715': 2, 'KT아현지사': 2, '통신국사': 1, '화재···황창규': 1, '회장': 1, '1601': 2, '아현지사': 1, '화재': 2, '1541': 1, '금융·기업전용망도': 2, '제한적': 2, '영향···전국': 1, '황창규': 1, 'KT회장': 2, '화재현장': 1, '방문': 2, '1532': 2, 'TechCrunch': 1, 'Cards': 1, 'Humanity': 1, 'selling': 1, 'diamonds': 1, '0816': 11, 'report': 1, 'climate': 1, 'change': 1, '0733': 2, 'Daily': 2, 'Crunch': 1, 'Black': 1, 'Friday’s': 1, 'online': 1, 'sales': 1, '0303': 4, 'Facebook': 2, 'policy': 2, 'VP': 1, 'Richard': 1, 'Allan': 1, '0204': 2, 'BlueCargo': 2, 'optimizes': 1, 'stacks': 1, 'containers': 1, '0143': 1, 'Quick': 1, 'Navigation': 4, '홈페이지': 2, 'WEBMAIL': 2, '평생교육원': 1, '교직원': 3, '업무': 1, 'Cus': 1, 'Location': 1, 'Contact': 1, 'CSE': 1, '충청남도': 2, '천안시': 11, '동남구': 2, '병천면': 2, '충절로': 1, '1600': 1, '학과사무실': 1, 'TEL': 1, '041': 2, '560': 11, '1460': 2, '1461': 2, 'FAX': 3, '1462': 2, '31253': 2, '가전리': 11, 'Copyright': 4, '©': 4, '2015': 3, 'rights': 1, 'reserved': 1}\n"
     ]
    }
   ],
   "source": [
    "dic = filterAbbreviation(dic) #사전 불용어 제거\n",
    "dic = filterAbbreviation(dic)\n",
    "print(dic)"
   ]
  },
  {
   "cell_type": "code",
   "execution_count": 213,
   "metadata": {},
   "outputs": [
    {
     "name": "stdout",
     "output_type": "stream",
     "text": [
      "{'컴퓨터공학부': 10, 'Schoolfun': 1, 'Study': 1, 'Fun': 1, '로그인': 4, '아이디': 4, '비밀번호': 1, '유지': 1, '브라우저를': 4, '닫더라도': 2, '로그인이': 1, '계속': 1, '유지될': 1, '있습니다': 1, '기능을': 2, '사용할': 1, '경우': 4, '접속부터는': 1, '로그인할': 1, '필요가': 1, '없습니다': 1, '단': 1, '게임방': 1, '학교': 1, '공공장소에서': 1, '이용': 1, '시': 1, '개인정보가': 1, '유출될': 1, '있으니': 1, '꼭': 2, '로그아웃을': 1, '해주세요': 1, '회원가입': 2, 'IDPW': 1, '찾기': 1, '교육의': 1, '글로벌': 1, '메카': 1, '한국기술교육대학교': 1, 'Close': 5, '소개': 2, '구성원소개': 3, '학사안내': 2, '입학': 7, '학부': 10, '대학원': 1, '학부광장': 1, '자료실': 1, '공학교육인증': 1, '학부서비스': 1, 'Registration': 1, 'School': 4, 'Computer': 2, 'Science': 4, 'Engineering': 1, '융합소프트웨어': 1, '인력양성사업': 1, 'CK': 10, 'Creative': 1, 'KoreaI': 2, '교육역량강화사업': 1, '온라인': 1, '컨텐츠': 3, 'Online': 1, 'Contents': 5, 'Education': 3, 'Capability': 1, 'Empowerment': 1, '홈페이지에': 1, '오신': 3, '것을': 3, '환영합니다': 2, '수준의': 1, 'IT전문인력': 1, '양성': 2, 'IT융합분야에': 1, '대한': 1, '국제적인': 1, '경쟁력': 5, '고취': 2, '바로가기': 3, '컨텐츠를': 2, '소개합니다': 7, '공지사항': 10, '안전교육': 1, '20182학기': 1, '실험실': 1, '이수현황': 1, '안내': 5, '20181112': 3, '1017': 3, '2018년': 3, '신입생': 1, '모집': 1, '입시설명회': 1, '개최': 1, '20181108': 1, '1544': 1, '졸업작품': 1, '재심사': 1, '중간발표역학': 3, '0914': 2, '2018학년도': 3, '하반기': 3, '자체필기실기평가': 1, '20181107': 1, '1026': 2, '특성화': 1, '2018': 2, 'IT융합': 1, '아이디어': 1, '경진대회': 2, '신청현황': 1, '20181106': 3, '1746': 2, '자유게시판': 2, '10대': 2, '학회장': 4, '부학회장': 1, '후보자': 2, '등록': 1, '20181120': 1, '2014': 2, '모의토익비': 2, '지원': 2, '공지': 2, '20181119': 2, '1923': 2, '총학생회장': 1, '재투표': 3, '관련': 1, '사항': 2, '20181118': 2, '2246': 2, '수정2019학년도': 1, '제10대': 1, '학생회장': 10, '부': 1, '20181116': 2, '2056': 3, 'DICE': 2, 'Lab': 2, '대학원생': 1, '1347': 2, '취업게시판': 1, '비트컴퓨터': 1, '교육사업부': 1, '교육운영관리': 1, '담당자': 1, '11월': 1, '16일': 2, '1451': 2, '플링크': 1, '증감현실': 1, '시스템': 1, '콘텐츠': 10, '개발': 1, '청주': 1, '11': 1, '1441': 1, 'ITCEN': 1, '신입': 2, '공채': 1, '7기': 2, '채용': 1, '공고': 1, '1428': 2, '㈜비즈테크파트너스': 2, 'LG': 1, 'CNS자회사': 1, '개발직': 1, '20181025': 2, '1629': 1, '국가보안기술연구소': 2, '정규직': 2, '20181004': 2, '1418': 1, 'Platum': 1, '역삼동에': 10, '소셜벤처': 1, '청년창업': 3, '허브': 1, '생긴다': 1, '20181124': 2, '1533': 2, '“모금의': 1, '혁신을': 1, '이야기하다”': 1, '도너스': 2, '콜라보레이트': 3, '201': 2, '20181123': 2, '2152': 1, '루미르': 1, '컴퍼니케이파트너스': 1, '등으로부터': 1, '35억': 1, '투자': 1, '유치': 1, '1516': 3, '디지털이코노미': 2, '포럼': 2, '대기업이': 1, '스타트업': 1, '생태계에': 1, '접': 3, '1435': 1, '디지털이코노미포럼': 1, '핀테크': 1, '30시대': 1, '10년': 3, '안에': 2, '온다': 2, '1355': 1, '전자신문': 1, 'KT': 2, '이동전화': 1, '피해': 1, '25일': 2, '아침까지': 1, '90': 2, '복구': 3, '1715': 2, 'KT아현지사': 2, '통신국사': 1, '화재···황창규': 1, '회장': 1, '1601': 2, '아현지사': 1, '화재': 2, '1541': 1, '금융·기업전용망도': 2, '제한적': 2, '영향···전국': 1, '황창규': 1, 'KT회장': 2, '화재현장': 1, '방문': 2, '1532': 2, 'TechCrunch': 1, 'Cards': 1, 'Humanity': 1, 'selling': 1, 'diamonds': 1, '0816': 11, 'report': 1, 'climate': 1, 'change': 1, '0733': 2, 'Daily': 2, 'Crunch': 1, 'Black': 1, 'Friday’s': 1, 'online': 1, 'sales': 1, '0303': 4, 'Facebook': 2, 'policy': 2, 'VP': 1, 'Richard': 1, 'Allan': 1, '0204': 2, 'BlueCargo': 2, 'optimizes': 1, 'stacks': 1, 'containers': 1, '0143': 1, 'Quick': 1, 'Navigation': 4, '홈페이지': 2, 'WEBMAIL': 2, '평생교육원': 1, '교직원': 3, '업무': 1, 'Cus': 1, 'Location': 1, 'Contact': 1, 'CSE': 1, '충청남도': 2, '천안시': 11, '동남구': 2, '병천면': 2, '충절로': 1, '1600': 1, '학과사무실': 1, 'TEL': 1, '041': 2, '560': 11, '1460': 2, '1461': 2, 'FAX': 3, '1462': 2, '31253': 2, '가전리': 11, 'Copyright': 4, '©': 4, '2015': 3, 'rights': 1, 'reserved': 1}\n"
     ]
    }
   ],
   "source": [
    "saveParsingData(url,dic) #파일저장\n",
    "dic = loadDicPickle(url) #저장한 사전 불러옴\n",
    "print(dic)"
   ]
  },
  {
   "cell_type": "code",
   "execution_count": 217,
   "metadata": {},
   "outputs": [
    {
     "name": "stdout",
     "output_type": "stream",
     "text": [
      "[('0816', 11), ('천안시', 11), ('560', 11), ('가전리', 11), ('컴퓨터공학부', 10), ('학부', 10), ('CK', 10), ('공지사항', 10), ('학생회장', 10), ('콘텐츠', 10)]\n"
     ]
    }
   ],
   "source": [
    "print(topFreqWord(dic,10)) #높은 빈도수 순으로 10개 단어 출력"
   ]
  },
  {
   "cell_type": "markdown",
   "metadata": {},
   "source": [
    "- 5개 웹 사이트 수행"
   ]
  },
  {
   "cell_type": "code",
   "execution_count": 218,
   "metadata": {},
   "outputs": [
    {
     "name": "stdout",
     "output_type": "stream",
     "text": [
      "[('식품ㆍ음료', 32), ('5200억', 32), ('민앤지', 32)]\n",
      "[('그룹의', 21), ('토', 21), ('학습', 21)]\n",
      "[('371558', 70), ('서울극장', 70), ('64979명', 70)]\n",
      "[('Ariana', 31), ('Queen퀸', 31), ('일간', 31)]\n",
      "[('시즌2', 39), ('anncy', 39), ('깝칠이', 39)]\n"
     ]
    }
   ],
   "source": [
    "urls =[]\n",
    "urls.append('http://www.catch.co.kr') ##채용정보\n",
    "urls.append('http://www.naver.com')   ##포털사이트\n",
    "urls.append('http://www.maxmovie.com') ##영화사이트\n",
    "urls.append('https://music.bugs.co.kr') ##음악사이트\n",
    "urls.append('https://www.wishbeen.co.kr') ##여행사이트\n",
    "\n",
    "for url in urls:\n",
    "    source = parseURL(url)  #html문서 문자열로 가져옴\n",
    "    text =  extractText(source)  #순수 텍스트 추출\n",
    "    text = filterSpecialChar(text) #특수문자 제거\n",
    "    \n",
    "    l = text.split()            #공백단위분리\n",
    "    dic = freqOfWord(l)       #출현한 단어의 빈도수 사전\n",
    "    dic = filterAbbreviation(dic) #사전 불용어 제거\n",
    "    dic = filterAbbreviation(dic)\n",
    "    \n",
    "    saveParsingData(url,dic) #파일저장\n",
    "    dic = loadDicPickle(url) #저장한 사전 불러옴\n",
    "    print(topFreqWord(dic,3)) #높은 빈도수 순 3개 단어 출력"
   ]
  },
  {
   "cell_type": "markdown",
   "metadata": {},
   "source": [
    "- 검색 엔진"
   ]
  },
  {
   "cell_type": "code",
   "execution_count": 219,
   "metadata": {},
   "outputs": [
    {
     "name": "stdout",
     "output_type": "stream",
     "text": [
      "검색어 입력->최신 영화 순위\n",
      "['최신', '영화', '순위']\n"
     ]
    }
   ],
   "source": [
    "keyword = input(\"검색어 입력->\")\n",
    "wordList = keyword.split() ##공백 단위 분리\n",
    "wordList = [word for word in wordList if word not in korean_Abbreviation] ##한국어 불용어 제거\n",
    "wordList = [word for word in wordList if word.lower() not in english_Abbreviation] ##영어 불용어 제거\n",
    "\n",
    "print(wordList)"
   ]
  },
  {
   "cell_type": "code",
   "execution_count": 220,
   "metadata": {},
   "outputs": [
    {
     "name": "stdout",
     "output_type": "stream",
     "text": [
      "[('http://www.catch.co.kr', 0.0), ('http://www.naver.com', 0.0005803830528148578), ('http://www.maxmovie.com', 0.021322343666009675), ('https://music.bugs.co.kr', 0.0027598896044158236), ('https://www.wishbeen.co.kr', 0.0024440684339161497)]\n"
     ]
    }
   ],
   "source": [
    "similarList = []  ##사이트 별 유사도를 저장할 리스트\n",
    "for url in urls:\n",
    "    dic = loadDicPickle(url)  ##단어출현 빈도 수 사전 불러옴\n",
    "    freqList = topFreqWord(dic,len(dic))\n",
    "    \n",
    "    totalWord = 0 ##사전의 전체 출현단어 빈도수 \n",
    "    for word,freq in freqList: totalWord += freq \n",
    "    \n",
    "    similarWord = 0 ##사전에서 검색어와 유사한 단어 빈도수\n",
    "    for keyword in wordList :\n",
    "        if keyword.isalpha() : keyword = keyword.lower() ##검색어가 영어이면 소문자로 변경\n",
    "        for word,freq in freqList:\n",
    "            if word.isalpha() : word = word.lower()    ##빈도수 사전의 단어가 영문이면 소문자로 변경\n",
    "            if keyword in word :     ##검색어 문자열이 빈도수 사전 단어 문자열에 존재하면\n",
    "                similarWord+=freq    ##유사 단어 빈도수에 사전 단어 빈도수를 더함\n",
    "    \n",
    "    similarity = similarWord/totalWord ##유사도 = 유사 단어 빈도수/전체 단어 빈도수            \n",
    "    similarList.append((url,similarity))\n",
    "print(similarList)    "
   ]
  },
  {
   "cell_type": "code",
   "execution_count": 221,
   "metadata": {},
   "outputs": [
    {
     "name": "stdout",
     "output_type": "stream",
     "text": [
      "\tURL\t\t\t\tSimilarity\n",
      "http://www.maxmovie.com                  0.021322\n",
      "https://music.bugs.co.kr                 0.002760\n",
      "https://www.wishbeen.co.kr               0.002444\n",
      "http://www.naver.com                     0.000580\n",
      "http://www.catch.co.kr                   0.000000\n"
     ]
    }
   ],
   "source": [
    "similarList.sort(key=lambda x:x[1], reverse=True) ##사이트 별 유사도 리스트 정렬\n",
    "print(\"\\tURL\\t\\t\\t\\tSimilarity\") ## url, 유사도 출력\n",
    "for url,similar in similarList:\n",
    "    print(\"%s %f\" % (url.ljust(40),similar))"
   ]
  },
  {
   "cell_type": "markdown",
   "metadata": {},
   "source": [
    "#### 추가구현요소 고찰"
   ]
  },
  {
   "cell_type": "markdown",
   "metadata": {},
   "source": [
    "1) 불용어 제거시 형태소를 파악하여 제거하는 기능 추가구현 필요\n",
    " - 불용어 사전을 이용하여 검색어나 출현단어 빈도 수 사전에서 불용어를 제거할 때 단순히 불용어 사전에 매칭되는 단어만 제거하기에는 한계가 있다. 한국어의 경우 불용어를 제거 할 단어가 명사로 쓰였는지 조사로 쓰였는지 판단할 필요가 있다. 형태소를 분석하여 불필요한 불용어를 제거하는 기능 추가가 필요하다.\n",
    "   > 불용어 -> 을  \n",
    "   > 단어-> 을지문덕, 가을, 파이썬을 \n",
    " -  불용어가 명사로 쓰였는지 어조사로 쓰였는지 판단해서 불용어만 제거해야한다.\n",
    " \n",
    "2) 검색어와 관련된 연관어를 파악하여 유사도에 적용하는 기능 추가구현 필요\n",
    " - 검색어로 입력한 단어가 포함된 단어만을 가지고 유사도를 결정하기에는 유사도의 정확성이 떨어진다. 검색어 관련된 단어도 빈도수를 파악하여 유사도를 결정하는데 적용하면 검색어에 대한 웹 사이트의 유사도를 좀 더 정확하게 판단할 수 있다.\n",
    "   > 검색어 -> 여행  \n",
    "   > 연관어 -> 투어, 관광지, travel, trip\n",
    " - 검색어와 관련된 연관어도 고려하면 좀 더 정확한 웹 사이트의 유사도를 결정 가능하다.\n",
    "\n",
    "3) 동적 웹 크롤링 기능 추가구현 필요\n",
    " - 현재 url에 해당하는 웹 페이지의 정보만 파싱하여 유사도를 결정하는데 크롤링된 데이터 양이 적기 때문에 유사도의 정확성이 떨어진다. url에 해당하는 웹 사이트에서 다른 페이지에 정보도 파싱하여 더 많은 양의 데이터를 수집하여  활용한다면 좀 더 정확하게 웹 사이트의 유사로를 결정할 수 있다.\n",
    "\n",
    "4) 시각화 기능 필요\n",
    " - 검색엔진이 상업적으로 성공하려면 사용자가 결과를 이해하기 쉽도록 그래프, 표, 이미지 등 다양한 방법으로 시각화 하여 제공해주는 기능이 필요하다. 현재 검색엔진은 유사도가 어떤 수치인지 어떻게 이해해야하는지 사용자 입장에서 명확하지 않다."
   ]
  },
  {
   "cell_type": "markdown",
   "metadata": {},
   "source": [
    "### [소감]\n",
    "\n",
    " - 이번 과제를 수행하면서 웹 사이트의 정보를 크롤링하여 수집해 필요한 정보로 가공하는 과정이 생각보다 쉽지 않은 과정임을 느끼게 되었습니다. 수집하는 과정보다 수집한 자료를 처리하는 과정이 더 어려운 부분인 것 같습니다. 또한  간단한 검색/엔진 코딩을 하면서 수집하는 정보가 어떤 언어인지에 따른 자연어 처리가 가능해야 좀 더 정확한 정보를 얻을 수 있다는 것을 알게 되었습니다. 무엇보다 자연어 처리에 대한 연구가 왜 계속해서 진행되고 있는지 이해할 수 있었던 과제였습니다. "
   ]
  }
 ],
 "metadata": {
  "kernelspec": {
   "display_name": "Python 3",
   "language": "python",
   "name": "python3"
  },
  "language_info": {
   "codemirror_mode": {
    "name": "ipython",
    "version": 3
   },
   "file_extension": ".py",
   "mimetype": "text/x-python",
   "name": "python",
   "nbconvert_exporter": "python",
   "pygments_lexer": "ipython3",
   "version": "3.6.5"
  }
 },
 "nbformat": 4,
 "nbformat_minor": 2
}
